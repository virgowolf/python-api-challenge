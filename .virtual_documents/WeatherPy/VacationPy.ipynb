


# Dependencies and Setup
import hvplot.pandas
import pandas as pd
import requests
import json

# Import API key
from api_keys import geoapify_key


# Load the CSV file created in Part 1 into a Pandas DataFrame
city_data_df = pd.read_csv("output_data/my_cities.csv")

# Display sample data
city_data_df.head()





# Configure the map plot
map_plot = city_data_df.hvplot.points('longitude', 'latitude', geo= True, tiles = 'OSM',
                                      frame_width = 700, frame_height = 500, size = 'city humidity', color= 'city')

# Display the map
map_plot





# Narrow down cities that fit my vacation criteria: Max temperature between 95 and 80 degrees, wind speed less than 4 m/s, and cloudiness <10.
vacation_filter_df = city_data_df.loc[(city_data_df['max temp']>=75) & (city_data_df['max temp']<=100) & (city_data_df['wind speed']<5) & (city_data_df['cloudiness'] <15)]
vacation_filter_df





# Use the Pandas copy function to create DataFrame called hotel_df to store the city, country, coordinates, and humidity
hotel_df = vacation_filter_df.copy(deep= True)

# Add an empty column, "Hotel Name," to the DataFrame so you can store the hotel found using the Geoapify API
hotel_df['hotel name'] = ""

# Display to verify new column name
hotel_df





# Set parameters to search for a hotel
categories = "accommodation.hotel"
radius = 10000

# Print a message to follow up the hotel search
print("Starting hotel search")

# Iterate through the hotel_df DataFrame
for index, row in hotel_df.iterrows():
    city = row["city"]
    latitude = row["latitude"]
    longitude = row["longitude"]
    
    # Set up parameters for the request
    params = {
        "lat": latitude,
        "lon": longitude,
        "categories": categories,
        "apiKey": geoapify_key
    }
    
    # Set base URL
    base_url = "https://api.geoapify.com/v2/places"

    # Make an API request using the params dictionary
    response = requests.get(base_url, params=params)
    
    # Convert the API response to JSON format
    place_details = response.json()

    # Print the json (pretty printed)
    print(json.dumps(place_details, indent=4, sort_keys=True))
    
    # Extract the hotel name from the response
    hotel_name = place_details.get("name", "No hotel found")
    
    # Log the search results
    print(f"{city} - nearest hotel: {hotel_name}")

    # Store the hotel name in the DataFrame
    hotel_df.loc[index, "hotel name"] = hotel_name



# Display sample data
hotel_df






# Configure the map plot
map_plot2 = hotel_df.hvplot.points('longitude', 'latitude', geo= True, tiles = 'OSM',
                                      frame_width = 700, frame_height = 500, size = 'city humidity', color= 'city', hover='hotel name')

# Display the map
# YOUR CODE HERE



