


# Dependencies and Setup
import matplotlib.pyplot as plt
import pandas as pd
import numpy as np
import requests
import time
from scipy.stats import linregress


# Impor the OpenWeatherMap API key
from api_keys import weather_api_key

# Import citipy to determine the cities based on latitude and longitude
from citipy import citipy





# Empty list for holding the latitude and longitude combinations
lat_lngs = []

# Empty list for holding the cities names
cities = []

# Range of latitudes and longitudes
lat_range = (-90, 90)
lng_range = (-180, 180)

# Create a set of random lat and lng combinations
lats = np.random.uniform(lat_range[0], lat_range[1], size=1500)
lngs = np.random.uniform(lng_range[0], lng_range[1], size=1500)
lat_lngs = zip(lats, lngs)

# Identify nearest city for each lat, lng combination
for lat_lng in lat_lngs:
    city = citipy.nearest_city(lat_lng[0], lat_lng[1]).city_name
    
    # If the city is unique, then add it to a our cities list
    if city not in cities:
        cities.append(city)

# Print the city count to confirm sufficient count
print(f"Number of cities in the list: {len(cities)}")








# Set the API base URL
# Save config information.
url = "http://api.openweathermap.org/data/2.5/weather?"
units = "imperial"

# Build partial query URL
query_url = f"{url}appid={weather_api_key}&units={units}&q="


# Define an empty list to fetch the weather data for each city
city_data = []

# Loop through all the cities in our list to fetch weather data
for i, city in enumerate(cities):
    try:
        # Group cities in sets of 50 for logging purposes
        if (i % 50 == 0 and i >= 50):
            set_count += 1
            record_count = 0

        # Create endpoint URL with each city
        response = requests.get(query_url + city).json()

        city_weather_dict = {
            "city": city,
            "latitude": response["coord"]["lat"],
            "longitude": response["coord"]["lon"],
            "max temp": response["main"]["temp_max"],
            "city humidity": response["main"]["humidity"],
            "cloudiness": response["clouds"]["all"],
            "wind speed": response["wind"]["speed"],
            "country": response["sys"]["country"],
            "date": response["dt"]
        }

        # Append city weather info to the city_data list
        city_data.append(city_weather_dict)

        # Log the processing of each city
        print(f"Processing Record {i+1} | {city}")

    except Exception as e:
        print(f"Error processing {city}: {e}")
        print("City not found. Skipping...")

# Convert the cities weather dictionary into a Pandas DataFrame
city_data_df = pd.DataFrame(city_data)

# Show Record Count
print(city_data_df.count())


# Log the processing of each city
print(f"Processing Record {i+1} | {city}")

# Indicate that Data Loading is complete
print("-----------------------------")
print("Data Retrieval Complete")
print("-----------------------------")


# Display sample data
city_data_df


import os

# Define the directory path
output_dir = "../WeatherPy/output_data"

# Save the DataFrame to a CSV file
city_data_df.to_csv(os.path.join(output_dir, "my_cities.csv"), index_label="City_ID")


# Read saved data
city_data_df = pd.read_csv("output_data/my_cities.csv", index_col="City_ID")

# Display sample data
city_data_df.head()





# Build scatter plot for latitude vs. temperature

x_values = city_data_df['latitude']
y_values = city_data_df['max temp']
plt.scatter(x_values,y_values)
plt.xlabel('Latitude')
plt.ylabel('Max Temperature (F)')
plt.title("Latitude Versus Temperature")

# Save the figure
plt.savefig("output_data/Fig1.png")

# Show plot
plt.show()





# Build the scatter plots for latitude vs. humidity
x_values = city_data_df['latitude']
y_values = city_data_df['city humidity']
plt.scatter(x_values,y_values)
plt.xlabel('Latitude')
plt.ylabel('City Humidity (%)')
plt.title("Latitude Versus Humidity")

# Show plot
plt.show()

# Save the figure
plt.savefig("output_data/Fig2.png")

# Show plot
plt.show()





# Build the scatter plot for latitude vs. cloudiness
x_values = city_data_df['latitude']
y_values = city_data_df['cloudiness']
plt.scatter(x_values,y_values)
plt.xlabel('Latitude')
plt.ylabel('Cloudiness')
plt.title("Latitude Versus Cloudiness")

# Show plot
plt.show()

# Save the figure
plt.savefig("output_data/Fig3.png")

# Show plot
plt.show()





# Build the scatter plots for latitude vs. wind speed
x_values = city_data_df['latitude']
y_values = city_data_df['wind speed']
plt.scatter(x_values,y_values)
plt.xlabel('Latitude')
plt.ylabel('Wind Speed)')
plt.title("Latitude Versus Wind Speed")


# Show plot
plt.show()
plt.savefig("output_data/Fig4.png")

# Show plot
plt.show()








# Define Northern and Southern Hemispheres
northern_hem_df = city_data_df.loc[city_data_df['latitude'] >= 0]
southern_hem_df = city_data_df.loc[city_data_df['latitude'] < 0]

# Regress latitude and max temp for Northern Hemisphere
x_values = northern_hem_df['latitude']
y_values = northern_hem_df['max temp']
(slope, intercept, rvalue, pvalue,stderr) = linregress(x_values, y_values)

# Get regression values 
regress_values = x_values * slope +intercept
print(f"R-squared: {rvalue**2:.3f}")

# Plot the scatter plot
plt.scatter(x_values, y_values, color='teal', label='Data Points')

# Plot the regression line
plt.plot(x_values, regress_values, color='red', label='Regression Line')

# Create line equation string
line_eq = "y = " + str(round(slope,2)) + "x +" + str(round(intercept,2))


plt.xlabel('Latitude')
plt.ylabel('Max Temperature (F)')
plt.title('Latitude vs Max Temperature in Northern Hemisphere')
plt.annotate(line_eq,(20,5),fontsize=15,color="red")
plt.legend()
plt.show()


# Regress latitude and max temp for Southern Hemisphere
x_values = southern_hem_df['latitude']
y_values = southern_hem_df['max temp']
(slope, intercept, rvalue, pvalue,stderr) = linregress(x_values, y_values)

# Get regression values 
regress_values = x_values * slope +intercept
print(f"R-squared: {rvalue**2:.3f}")

# Plot the scatter plot
plt.scatter(x_values, y_values, color='teal', label='Data Points')

# Plot the regression line
plt.plot(x_values, regress_values, color='red', label='Regression Line')

# Create line equation string
line_eq = "y = " + str(round(slope,2)) + "x +" + str(round(intercept,2))


plt.xlabel('Latitude')
plt.ylabel('Max Temperature (F)')
plt.title('Latitude vs Max Temperature in Southern Hemisphere')
plt.annotate(line_eq,(20,5),fontsize=15,color="red")
plt.legend()
plt.show()








# Northern Hemisphere
x_values = northern_hem_df['latitude']
y_values = northern_hem_df['city humidity']
(slope, intercept, rvalue, pvalue,stderr) = linregress(x_values, y_values)

# Get regression values 
regress_values = x_values * slope +intercept
print(f"R-squared: {rvalue**2:.3f}")

# Plot the scatter plot
plt.scatter(x_values, y_values, color='teal', label='Data Points')

# Plot the regression line
plt.plot(x_values, regress_values, color='red', label='Regression Line')

# Create line equation string
line_eq = "y = " + str(round(slope,2)) + "x +" + str(round(intercept,2))


plt.xlabel('Latitude')
plt.ylabel('Humidity (%)')
plt.title('Latitude vs Humidity in Northern Hemisphere')
plt.annotate(line_eq,(20,5),fontsize=15,color="red")
plt.legend()
plt.show()


# Southern Hemisphere
x_values = southern_hem_df['latitude']
y_values = southern_hem_df['city humidity']
(slope, intercept, rvalue, pvalue,stderr) = linregress(x_values, y_values)

# Get regression values 
regress_values = x_values * slope +intercept
print(f"R-squared: {rvalue**2:.3f}")

# Plot the scatter plot
plt.scatter(x_values, y_values, color='teal', label='Data Points')

# Plot the regression line
plt.plot(x_values, regress_values, color='red', label='Regression Line')

# Create line equation string
line_eq = "y = " + str(round(slope,2)) + "x +" + str(round(intercept,2))


plt.xlabel('Latitude')
plt.ylabel('Humidity (%)')
plt.title('Latitude vs Humidity in Southern Hemisphere')
plt.annotate(line_eq,(20,5),fontsize=15,color="red")
plt.legend()
plt.show()








# Northern Hemisphere
x_values = northern_hem_df['latitude']
y_values = northern_hem_df['cloudiness']
(slope, intercept, rvalue, pvalue,stderr) = linregress(x_values, y_values)

# Get regression values 
regress_values = x_values * slope +intercept
print(f"R-squared: {rvalue**2:.3f}")

# Plot the scatter plot
plt.scatter(x_values, y_values, color='teal', label='Data Points')

# Plot the regression line
plt.plot(x_values, regress_values, color='red', label='Regression Line')

# Create line equation string
line_eq = "y = " + str(round(slope,2)) + "x +" + str(round(intercept,2))


plt.xlabel('Latitude')
plt.ylabel('Cloudiness (%)')
plt.title('Latitude vs Cloudiness in Northern Hemisphere')
plt.annotate(line_eq,(20,5),fontsize=15,color="red")
plt.legend()
plt.show()


# Southern Hemisphere
x_values = southern_hem_df['latitude']
y_values = southern_hem_df['cloudiness']
(slope, intercept, rvalue, pvalue,stderr) = linregress(x_values, y_values)

# Get regression values 
regress_values = x_values * slope +intercept
print(f"R-squared: {rvalue**2:.3f}")

# Plot the scatter plot
plt.scatter(x_values, y_values, color='teal', label='Data Points')

# Plot the regression line
plt.plot(x_values, regress_values, color='red', label='Regression Line')

# Create line equation string
line_eq = "y = " + str(round(slope,2)) + "x +" + str(round(intercept,2))


plt.xlabel('Latitude')
plt.ylabel('Cloudiness (%)')
plt.title('Latitude vs Cloudiness in Southern Hemisphere')
plt.annotate(line_eq,(20,5),fontsize=15,color="red")
plt.legend()
plt.show()








# Northern Hemisphere
x_values = northern_hem_df['latitude']
y_values = northern_hem_df['wind speed']
(slope, intercept, rvalue, pvalue,stderr) = linregress(x_values, y_values)

# Get regression values 
regress_values = x_values * slope +intercept
print(f"R-squared: {rvalue**2:.3f}")

# Plot the scatter plot
plt.scatter(x_values, y_values, color='teal', label='Data Points')

# Plot the regression line
plt.plot(x_values, regress_values, color='red', label='Regression Line')

# Create line equation string
line_eq = "y = " + str(round(slope,2)) + "x +" + str(round(intercept,2))


plt.xlabel('Latitude')
plt.ylabel('Wind Speed (meter/sec)')
plt.title('Latitude vs Wind Speed in Northern Hemisphere')
plt.annotate(line_eq,(20,5),fontsize=15,color="red")
plt.legend()
plt.show()


# Southern Hemisphere
x_values = southern_hem_df['latitude']
y_values = southern_hem_df['wind speed']
(slope, intercept, rvalue, pvalue,stderr) = linregress(x_values, y_values)

# Get regression values 
regress_values = x_values * slope +intercept
print(f"R-squared: {rvalue**2:.3f}")

# Plot the scatter plot
plt.scatter(x_values, y_values, color='teal', label='Data Points')

# Plot the regression line
plt.plot(x_values, regress_values, color='red', label='Regression Line')

# Create line equation string
line_eq = "y = " + str(round(slope,2)) + "x +" + str(round(intercept,2))

plt.xlabel('Latitude')
plt.ylabel('Wind Speed (meter/sec)')
plt.title('Latitude vs Wind Speed in Southern Hemisphere')
plt.annotate(line_eq,(20,5),fontsize=15,color="red")
plt.legend()
plt.show()






